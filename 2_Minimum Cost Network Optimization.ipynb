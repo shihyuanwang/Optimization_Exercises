{
 "cells": [
  {
   "cell_type": "code",
   "execution_count": 1,
   "metadata": {},
   "outputs": [],
   "source": [
    "from __future__ import print_function\n",
    "from ortools.graph import pywrapgraph\n",
    "import time"
   ]
  },
  {
   "cell_type": "code",
   "execution_count": 2,
   "metadata": {},
   "outputs": [
    {
     "name": "stdout",
     "output_type": "stream",
     "text": [
      "Total time =  160\n",
      "\n",
      "Person a assigned to task 2. Time = 30\n",
      "Person b assigned to task 3. Time = 72\n",
      "Person c assigned to task 1. Time = 58\n"
     ]
    }
   ],
   "source": [
    "def main():\n",
    "  \"\"\"Solving an Assignment Problem with MinCostFlow\"\"\"\n",
    "\n",
    "  # Instantiate a SimpleMinCostFlow solver.\n",
    "  min_cost_flow = pywrapgraph.SimpleMinCostFlow()\n",
    "\n",
    "  # Define the directed graph for the flow.\n",
    "\n",
    "  start_nodes = [0, 0, 0] + [1, 1, 1, 2, 2, 2, 3, 3, 3] + [4, 5, 6]\n",
    "  end_nodes =   [1, 2, 3] + [4, 5, 6, 4, 5, 6, 4, 5, 6] + [7, 7, 7]\n",
    "  capacities =  [1, 1, 1] + [1, 1, 1, 1, 1, 1, 1, 1, 1] + [1, 1, 1]\n",
    "  costs  = ([0, 0, 0] + [19, 30, 46, 98, 88, 72, 58, 77, 89] + [0, 0, 0])\n",
    "    \n",
    "  source = 0\n",
    "  sink = 7\n",
    "  tasks = 3\n",
    "  supplies = [3, 0, 0, 0, 0, 0, 0, -3]\n",
    "\n",
    "  # Add each arc.\n",
    "  for i in range(len(start_nodes)):\n",
    "    min_cost_flow.AddArcWithCapacityAndUnitCost(start_nodes[i], end_nodes[i],\n",
    "                                                capacities[i], costs[i])\n",
    "  # Add node supplies.\n",
    "\n",
    "  for i in range(len(supplies)):\n",
    "    min_cost_flow.SetNodeSupply(i, supplies[i])\n",
    "\n",
    "  # Find the minimum cost flow between node 0 and node 10.\n",
    "  if min_cost_flow.Solve() == min_cost_flow.OPTIMAL:\n",
    "    print('Total time = ', min_cost_flow.OptimalCost())\n",
    "    print()\n",
    "    for arc in range(min_cost_flow.NumArcs()):\n",
    "\n",
    "      # Can ignore arcs leading out of source or into sink.\n",
    "      if min_cost_flow.Tail(arc)!=source and min_cost_flow.Head(arc)!=sink:\n",
    "\n",
    "        # Arcs in the solution have a flow value of 1. \n",
    "        # Their start and end nodes give an assignment of worker to task.\n",
    "\n",
    "        if min_cost_flow.Flow(arc) > 0:\n",
    "          people = ['a', 'b', 'c']\n",
    "          person = people[min_cost_flow.Tail(arc)-1]\n",
    "          print('Person %s assigned to task %d. Time = %d' % (\n",
    "                person,\n",
    "                min_cost_flow.Head(arc)-3,\n",
    "                min_cost_flow.UnitCost(arc)))\n",
    "  else:\n",
    "    print('There was an issue with the min cost flow input.')\n",
    "\n",
    "if __name__ == '__main__':\n",
    "  main()"
   ]
  },
  {
   "cell_type": "code",
   "execution_count": null,
   "metadata": {},
   "outputs": [],
   "source": []
  }
 ],
 "metadata": {
  "kernelspec": {
   "display_name": "Python 3",
   "language": "python",
   "name": "python3"
  },
  "language_info": {
   "codemirror_mode": {
    "name": "ipython",
    "version": 3
   },
   "file_extension": ".py",
   "mimetype": "text/x-python",
   "name": "python",
   "nbconvert_exporter": "python",
   "pygments_lexer": "ipython3",
   "version": "3.8.3"
  }
 },
 "nbformat": 4,
 "nbformat_minor": 4
}
